{
  "nbformat": 4,
  "nbformat_minor": 0,
  "metadata": {
    "colab": {
      "provenance": [],
      "authorship_tag": "ABX9TyN4CD2srM89ooHY/BBlWk1l",
      "include_colab_link": true
    },
    "kernelspec": {
      "name": "python3",
      "display_name": "Python 3"
    },
    "language_info": {
      "name": "python"
    }
  },
  "cells": [
    {
      "cell_type": "markdown",
      "metadata": {
        "id": "view-in-github",
        "colab_type": "text"
      },
      "source": [
        "<a href=\"https://colab.research.google.com/github/joydebmahata/COLLAGE_ASGN/blob/main/class_ass02.ipynb\" target=\"_parent\"><img src=\"https://colab.research.google.com/assets/colab-badge.svg\" alt=\"Open In Colab\"/></a>"
      ]
    },
    {
      "cell_type": "code",
      "source": [
        "#JOYDEB MAHATA\n",
        "#22BT8048"
      ],
      "metadata": {
        "id": "rczS2HWF8SUD"
      },
      "execution_count": null,
      "outputs": []
    },
    {
      "cell_type": "markdown",
      "source": [
        "RECURSION"
      ],
      "metadata": {
        "id": "H7lBvpHH8VJ1"
      }
    },
    {
      "cell_type": "code",
      "execution_count": null,
      "metadata": {
        "colab": {
          "base_uri": "https://localhost:8080/"
        },
        "id": "9EtZocdC4xAL",
        "outputId": "17214117-ada2-46d0-f66f-e14b0a275d62"
      },
      "outputs": [
        {
          "output_type": "stream",
          "name": "stdout",
          "text": [
            "3 0.19216537475585938 msec\n"
          ]
        }
      ],
      "source": [
        "import time\n",
        "star=time.time()\n",
        "def fib(x):\n",
        "    if x ==2 or x==3:\n",
        "        return 1\n",
        "    else:\n",
        "        return fib(x-1) + fib(x-2)\n",
        "k=fib(5)\n",
        "end=time.time()\n",
        "print(k,(end-star)*10**3,\"msec\")"
      ]
    },
    {
      "cell_type": "code",
      "source": [],
      "metadata": {
        "id": "36H8N4NH8gjJ"
      },
      "execution_count": null,
      "outputs": []
    },
    {
      "cell_type": "markdown",
      "source": [
        "DICTIONARIES"
      ],
      "metadata": {
        "id": "NMoPufKy8hoK"
      }
    },
    {
      "cell_type": "code",
      "source": [
        "import time\n",
        "star=time.time()\n",
        "def fib(n,d):\n",
        "    if n in d:\n",
        "        return d[n]\n",
        "    else :\n",
        "        ans = fib(n-1,d)+fib(n-2,d)\n",
        "        d[n]=ans\n",
        "        return ans\n",
        "d={0:0,1:1}\n",
        "k=fib(5,d)\n",
        "end=time.time()\n",
        "print(k,(end-star)*10**3, \"msec\")"
      ],
      "metadata": {
        "colab": {
          "base_uri": "https://localhost:8080/"
        },
        "id": "GDsvuZe4447w",
        "outputId": "34193f3f-bc91-402d-bd23-8b4a8ff62a73"
      },
      "execution_count": null,
      "outputs": [
        {
          "output_type": "stream",
          "name": "stdout",
          "text": [
            "5 0.26798248291015625 msec\n"
          ]
        }
      ]
    },
    {
      "cell_type": "markdown",
      "source": [
        "BUT WHEN WE APPLY IN HIGH VALUE THEN I UNDERSTEND\n",
        "WHY USE DICT\n"
      ],
      "metadata": {
        "id": "G4CZFUFG7wvT"
      }
    },
    {
      "cell_type": "markdown",
      "source": [
        "RECURSION"
      ],
      "metadata": {
        "id": "Ddo4VabF8lbp"
      }
    },
    {
      "cell_type": "code",
      "source": [
        "import time\n",
        "star=time.time()\n",
        "def fib(x):\n",
        "    if x == 1 or x == 2:\n",
        "        return 1\n",
        "    else:\n",
        "        return fib(x-1) + fib(x-2)\n",
        "k=fib(20)\n",
        "end=time.time()\n",
        "print(k,(end-star)*10**3,\"msec\")"
      ],
      "metadata": {
        "id": "0W3kQrrf445y",
        "colab": {
          "base_uri": "https://localhost:8080/"
        },
        "outputId": "1dc8d45d-5c4a-4020-e096-a9f71bd133e5"
      },
      "execution_count": null,
      "outputs": [
        {
          "output_type": "stream",
          "name": "stdout",
          "text": [
            "6765 5.413055419921875 msec\n"
          ]
        }
      ]
    },
    {
      "cell_type": "markdown",
      "source": [
        "DICTIONARIES"
      ],
      "metadata": {
        "id": "5zraljec8qH8"
      }
    },
    {
      "cell_type": "code",
      "source": [
        "import time\n",
        "star=time.time()\n",
        "def fib(n,d):\n",
        "    if n in d:\n",
        "        return d[n]\n",
        "    else :\n",
        "        ans = fib(n-1,d)+fib(n-2,d)\n",
        "        d[n]=ans\n",
        "        return ans\n",
        "d={0:0,1:1}\n",
        "k=fib(20,d)\n",
        "end=time.time()\n",
        "print(k,(end-star)*10**3, \"msec\")"
      ],
      "metadata": {
        "id": "BK1xZ5-C449f",
        "colab": {
          "base_uri": "https://localhost:8080/"
        },
        "outputId": "d99bc036-49e9-4e36-80fb-e63f3f2033ca"
      },
      "execution_count": null,
      "outputs": [
        {
          "output_type": "stream",
          "name": "stdout",
          "text": [
            "6765 0.35190582275390625 msec\n"
          ]
        }
      ]
    },
    {
      "cell_type": "code",
      "source": [
        "def g(x):\n",
        "  def h():\n",
        "    x = 'abc'\n",
        "    print(x)\n",
        "  x = x + 1\n",
        "  print('g: x =', x)\n",
        "  h()\n",
        "  return x\n",
        "x = 3\n",
        "z = g(x)\n",
        "print(x,z)\n"
      ],
      "metadata": {
        "colab": {
          "base_uri": "https://localhost:8080/"
        },
        "id": "NfiwMVG08v02",
        "outputId": "ae67f1f1-2d7e-41c8-8ecd-5cf7b6be00d0"
      },
      "execution_count": null,
      "outputs": [
        {
          "output_type": "stream",
          "name": "stdout",
          "text": [
            "g: x = 4\n",
            "abc\n",
            "3 4\n"
          ]
        }
      ]
    }
  ]
}