{
  "nbformat": 4,
  "nbformat_minor": 0,
  "metadata": {
    "colab": {
      "provenance": [],
      "authorship_tag": "ABX9TyPeQXizkIYP2MPyEPImWhVA",
      "include_colab_link": true
    },
    "kernelspec": {
      "name": "python3",
      "display_name": "Python 3"
    },
    "language_info": {
      "name": "python"
    }
  },
  "cells": [
    {
      "cell_type": "markdown",
      "metadata": {
        "id": "view-in-github",
        "colab_type": "text"
      },
      "source": [
        "<a href=\"https://colab.research.google.com/github/joydebmahata/COLLAGE_ASGN/blob/main/pandas.ipynb\" target=\"_parent\"><img src=\"https://colab.research.google.com/assets/colab-badge.svg\" alt=\"Open In Colab\"/></a>"
      ]
    },
    {
      "cell_type": "code",
      "execution_count": 1,
      "metadata": {
        "colab": {
          "base_uri": "https://localhost:8080/"
        },
        "id": "isa_HHHv__-i",
        "outputId": "95d89f85-8346-429a-a4c2-2ce3ab43c4d6"
      },
      "outputs": [
        {
          "output_type": "stream",
          "name": "stdout",
          "text": [
            "list1 : [[5 1 9 7 9]\n",
            " [6 6 8 4 9]\n",
            " [7 2 8 4 7]] \n",
            "\n",
            "   std no.  gst (%)  groth  loss  final\n",
            "0        5        1      9     7      9\n",
            "1        6        6      8     4      9\n",
            "2        7        2      8     4      7\n"
          ]
        }
      ],
      "source": [
        "import matplotlib.pyplot as mpl\n",
        "import seaborn as sbo\n",
        "import pandas as pd\n",
        "import numpy as np\n",
        "list1=np.random.randint(1,10,[3,5])\n",
        "print('list1 :',list1,'\\n')\n",
        "arr=np.array(list1)\n",
        "head=['std no.','gst (%)','groth','loss','final']\n",
        "#name=zip(list5,arr)\n",
        "name=['a','b','c']\n",
        "b=pd.DataFrame(arr,columns=head)\n",
        "print(b)\n"
      ]
    },
    {
      "cell_type": "code",
      "source": [
        "import keyword as ky\n",
        "print(ky.kwlist)"
      ],
      "metadata": {
        "colab": {
          "base_uri": "https://localhost:8080/"
        },
        "id": "AFSxjIz5AFF1",
        "outputId": "07d8e011-462f-44e6-e0f1-52e79abf79b2"
      },
      "execution_count": 2,
      "outputs": [
        {
          "output_type": "stream",
          "name": "stdout",
          "text": [
            "['False', 'None', 'True', 'and', 'as', 'assert', 'async', 'await', 'break', 'class', 'continue', 'def', 'del', 'elif', 'else', 'except', 'finally', 'for', 'from', 'global', 'if', 'import', 'in', 'is', 'lambda', 'nonlocal', 'not', 'or', 'pass', 'raise', 'return', 'try', 'while', 'with', 'yield']\n"
          ]
        }
      ]
    },
    {
      "cell_type": "code",
      "source": [
        "import pandas as pd\n",
        "import random\n",
        "import numpy as np\n",
        "list1=[]\n",
        "list3=[]\n",
        "for x in range(12):\n",
        "  list2=random.randint(1,10)\n",
        "  list3.append(list2*2)\n",
        "  list1.append(list2)\n",
        "print(list1,list3,zip(list1,list3))\n",
        "arr=np.arange(12).reshape(4,3)\n",
        "head=['std no.','gst (%)','groth']\n",
        "name=zip(head,arr)\n",
        "print(\"\\n\",name)\n",
        "na=['a','b','c']\n",
        "b=pd.DataFrame(arr,index=['a','b','c','d'],columns = head )\n",
        "print(b)\n"
      ],
      "metadata": {
        "colab": {
          "base_uri": "https://localhost:8080/"
        },
        "id": "wfgvdornAFCZ",
        "outputId": "25c05e67-f185-4358-85a8-352b45fcfb8e"
      },
      "execution_count": 3,
      "outputs": [
        {
          "output_type": "stream",
          "name": "stdout",
          "text": [
            "[4, 9, 8, 2, 2, 3, 10, 6, 6, 1, 3, 8] [8, 18, 16, 4, 4, 6, 20, 12, 12, 2, 6, 16] <zip object at 0x7e41fc27e600>\n",
            "\n",
            " <zip object at 0x7e41fc27e180>\n",
            "   std no.  gst (%)  groth\n",
            "a        0        1      2\n",
            "b        3        4      5\n",
            "c        6        7      8\n",
            "d        9       10     11\n"
          ]
        }
      ]
    },
    {
      "cell_type": "code",
      "source": [
        "a=[]\n",
        "\n",
        "for x in range(4):\n",
        "    a.append(input(f'enter your data {x+1}: '))\n",
        "print(a)\n",
        "#frthghjb=a.astype()\n",
        "print(type(a),len(a))"
      ],
      "metadata": {
        "colab": {
          "base_uri": "https://localhost:8080/"
        },
        "id": "ByrRMpanAFAB",
        "outputId": "d7759654-dd27-4378-ba5d-a012cf9e239b"
      },
      "execution_count": 4,
      "outputs": [
        {
          "output_type": "stream",
          "name": "stdout",
          "text": [
            "enter your data 1: 45\n",
            "enter your data 2: 85\n",
            "enter your data 3: 67\n",
            "enter your data 4: 59\n",
            "['45', '85', '67', '59']\n",
            "<class 'list'> 4\n"
          ]
        }
      ]
    },
    {
      "cell_type": "code",
      "source": [
        "x = [str(x) for x in input(\"Enter multiple value: \").split(\",\")]\n",
        "print(\"Number of list is: \", x)"
      ],
      "metadata": {
        "colab": {
          "base_uri": "https://localhost:8080/"
        },
        "id": "pd-U4IgZTXY2",
        "outputId": "08f0e206-b2f4-4547-d8f3-82a217215538"
      },
      "execution_count": 5,
      "outputs": [
        {
          "output_type": "stream",
          "name": "stdout",
          "text": [
            "Enter multiple value: bjdbjnsnkj ngdjh dng nn\n",
            "Number of list is:  ['bjdbjnsnkj ngdjh dng nn']\n"
          ]
        }
      ]
    },
    {
      "cell_type": "code",
      "source": [
        "my_dict = {\"apple\": \"a fruit\", \"banana\": \"another fruit\"}\n",
        "print(my_dict)"
      ],
      "metadata": {
        "colab": {
          "base_uri": "https://localhost:8080/"
        },
        "id": "2Pq_qHMqbj1B",
        "outputId": "38a2fc05-2582-4377-c579-6ba6393f79c3"
      },
      "execution_count": 6,
      "outputs": [
        {
          "output_type": "stream",
          "name": "stdout",
          "text": [
            "{'apple': 'a fruit', 'banana': 'another fruit'}\n"
          ]
        }
      ]
    },
    {
      "cell_type": "code",
      "source": [
        "a=8\n",
        "b=9\n",
        "def f(a,b):\n",
        "  if (a<b):\n",
        "    return True\n",
        "  else :\n",
        "    return False\n",
        "c=f(a,b)\n",
        "print(c)"
      ],
      "metadata": {
        "id": "8iAjMQ8JTWua",
        "colab": {
          "base_uri": "https://localhost:8080/"
        },
        "outputId": "3e25f2a3-fbd2-40cc-e36e-4f5722c88f03"
      },
      "execution_count": 9,
      "outputs": [
        {
          "output_type": "stream",
          "name": "stdout",
          "text": [
            "True\n"
          ]
        }
      ]
    }
  ]
}