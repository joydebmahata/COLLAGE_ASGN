{
  "nbformat": 4,
  "nbformat_minor": 0,
  "metadata": {
    "colab": {
      "provenance": [],
      "authorship_tag": "ABX9TyNmJ8POO99zPUo265lqn5w0",
      "include_colab_link": true
    },
    "kernelspec": {
      "name": "python3",
      "display_name": "Python 3"
    },
    "language_info": {
      "name": "python"
    }
  },
  "cells": [
    {
      "cell_type": "markdown",
      "metadata": {
        "id": "view-in-github",
        "colab_type": "text"
      },
      "source": [
        "<a href=\"https://colab.research.google.com/github/joydebmahata/COLLAGE_ASGN/blob/main/STACK_USEING_linkedlist_.ipynb\" target=\"_parent\"><img src=\"https://colab.research.google.com/assets/colab-badge.svg\" alt=\"Open In Colab\"/></a>"
      ]
    },
    {
      "cell_type": "markdown",
      "source": [
        "\n",
        "\n",
        "   **NAME : JOYDEB MAHATA**\n",
        "\n",
        "   **ROLL NO. :22Bt8048**\n",
        "\n",
        "\n",
        "\n",
        "\n"
      ],
      "metadata": {
        "id": "eeumGT-qVa6F"
      }
    },
    {
      "cell_type": "code",
      "execution_count": null,
      "metadata": {
        "colab": {
          "base_uri": "https://localhost:8080/"
        },
        "id": "tn0rtyVNVMda",
        "outputId": "3c9bc125-3677-4980-85a8-e17de5d15695"
      },
      "outputs": [
        {
          "output_type": "stream",
          "name": "stdout",
          "text": [
            "\n",
            " 1 for push\n",
            " 2 for pop \n",
            " 3 for exit\n",
            "enter your choice : 1\n",
            "enter your push data : 25\n",
            "enter your choice : 1\n",
            "enter your push data : 69\n",
            "enter your choice : 1\n",
            "enter your push data : 29\n",
            "enter your choice : 15\n",
            "u r choice is wrong\n",
            "enter your choice : 2\n",
            "enter your choice : 1\n",
            "enter your push data : 59\n",
            "enter your choice : 99\n",
            "u r choice is wrong\n",
            "enter your choice : 1\n",
            "enter your push data : 99\n",
            "enter your choice : 2\n",
            "enter your choice : 3\n",
            "finas=l result are\n",
            "\n",
            "25\n",
            "69\n",
            "59\n"
          ]
        }
      ],
      "source": [
        "class node:\n",
        "  def __init__(self,data):\n",
        "    self.data=data\n",
        "    self.next=None\n",
        "\n",
        "class create :\n",
        "  def __init__(self):\n",
        "    self.head=None\n",
        "\n",
        "  def print_data(self):\n",
        "    n=self.head\n",
        "    if(n==None):\n",
        "      Print(\"linklist not creat or empty\")\n",
        "    while(n!=None):\n",
        "       print(n.data)\n",
        "       n=n.next\n",
        "  def push(self,data):\n",
        "    temp=node(data)\n",
        "    if(self.head == None):\n",
        "      self.head=temp\n",
        "    else:\n",
        "      n=self.head\n",
        "      while(n.next!=None):\n",
        "        n=n.next\n",
        "      n.next=temp\n",
        "\n",
        "  def pop(self):\n",
        "    if(self.head == None):\n",
        "      print(\"stack is empty\")\n",
        "    else:\n",
        "      n=self.head\n",
        "      while(n.next!=None):\n",
        "        prv=n\n",
        "        n=n.next\n",
        "      prv.next=None\n",
        "st=create()\n",
        "print(\"\\n 1 for push\\n 2 for pop \\n 3 for exit\")\n",
        "while (True):\n",
        "  a=int(input('enter your choice : '))\n",
        "  if a==1:\n",
        "    data=int(input('enter your push data : '))\n",
        "    st.push(data)\n",
        "  elif a==2:\n",
        "    st.pop()\n",
        "  elif a==3:\n",
        "    break\n",
        "  else :\n",
        "    print(\"u r choice is wrong\")\n",
        "print(\"finas=l result are\\n\")\n",
        "st.print_data()\n"
      ]
    }
  ]
}