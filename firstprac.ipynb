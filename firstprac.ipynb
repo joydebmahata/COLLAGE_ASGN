{
  "nbformat": 4,
  "nbformat_minor": 0,
  "metadata": {
    "colab": {
      "provenance": [],
      "mount_file_id": "1e-oNTKJzLHuUHKYguwQ3pkSo3e43tTs3",
      "authorship_tag": "ABX9TyOxmMJP/s0xDKN8OR+WJqtR",
      "include_colab_link": true
    },
    "kernelspec": {
      "name": "python3",
      "display_name": "Python 3"
    },
    "language_info": {
      "name": "python"
    }
  },
  "cells": [
    {
      "cell_type": "markdown",
      "metadata": {
        "id": "view-in-github",
        "colab_type": "text"
      },
      "source": [
        "<a href=\"https://colab.research.google.com/github/joydebmahata/COLLAGE_ASGN/blob/main/firstprac.ipynb\" target=\"_parent\"><img src=\"https://colab.research.google.com/assets/colab-badge.svg\" alt=\"Open In Colab\"/></a>"
      ]
    },
    {
      "cell_type": "code",
      "source": [
        "int(v)\n",
        "v=456\n",
        "int(k)\n",
        "k =input(k)\n",
        "print(k)\n",
        "print(v)"
      ],
      "metadata": {
        "id": "EGwoG2UzuX20"
      },
      "execution_count": null,
      "outputs": []
    },
    {
      "cell_type": "code",
      "source": [],
      "metadata": {
        "id": "JzPyoV_Egzjh"
      },
      "execution_count": null,
      "outputs": []
    },
    {
      "cell_type": "code",
      "source": [
        "from sre_constants import RANGE\n",
        "print(\"enter your birth date \")\n",
        "year= input(\"enter year\")\n",
        "month= input(\"enter month\")\n",
        "date=input(\"enter date\")\n",
        "birthdate=[year,month,date]\n",
        "k=len(birthdate)\n",
        "print(k)\n",
        "for x in birthdate:\n",
        "  print(x)"
      ],
      "metadata": {
        "colab": {
          "base_uri": "https://localhost:8080/"
        },
        "id": "L1EoOvp4uYJk",
        "outputId": "f8046c10-5f62-482e-bc18-8d2b21802f86"
      },
      "execution_count": null,
      "outputs": [
        {
          "output_type": "stream",
          "name": "stdout",
          "text": [
            "enter your birth date \n",
            "enter year2002\n",
            "enter month02\n",
            "enter date23\n",
            "3\n",
            "2002\n",
            "02\n",
            "23\n"
          ]
        }
      ]
    },
    {
      "cell_type": "code",
      "source": [
        "mylist = ['joydeb','kali','bali','dog','khanki','magi']\n",
        "print(mylist[-2:-5:-2])"
      ],
      "metadata": {
        "colab": {
          "base_uri": "https://localhost:8080/"
        },
        "id": "nDgUXM9HuYaN",
        "outputId": "2da7a4bc-3cb1-40f2-cc10-4f4c623957ba"
      },
      "execution_count": null,
      "outputs": [
        {
          "output_type": "stream",
          "name": "stdout",
          "text": [
            "['khanki', 'bali']\n"
          ]
        }
      ]
    },
    {
      "cell_type": "code",
      "source": [
        "da=[5,2,8,6,9]\n",
        "k=sum(da)\n",
        "m=sorted(da)\n",
        "print(k)\n",
        "print(m)"
      ],
      "metadata": {
        "id": "AR5AK3LtWzDN",
        "colab": {
          "base_uri": "https://localhost:8080/"
        },
        "outputId": "7e72a4ab-ffcd-495a-e5a1-491933608427"
      },
      "execution_count": null,
      "outputs": [
        {
          "output_type": "stream",
          "name": "stdout",
          "text": [
            "30\n",
            "[2, 5, 6, 8, 9]\n"
          ]
        }
      ]
    },
    {
      "cell_type": "code",
      "source": [
        "a=input('enrer any character :')\n",
        "print(type(a))\n",
        "print('ascii value is')\n",
        "print(ord(a))"
      ],
      "metadata": {
        "colab": {
          "base_uri": "https://localhost:8080/"
        },
        "id": "DfTtPwehUBAA",
        "outputId": "8278eb1b-0f65-46c2-c8fc-6c1f0c091ea6"
      },
      "execution_count": null,
      "outputs": [
        {
          "output_type": "stream",
          "name": "stdout",
          "text": [
            "enrer any character :a\n",
            "<class 'str'>\n",
            "ascii value is\n",
            "97\n"
          ]
        }
      ]
    },
    {
      "cell_type": "code",
      "source": [],
      "metadata": {
        "id": "CMAzv3kkg1IO"
      },
      "execution_count": null,
      "outputs": []
    }
  ]
}