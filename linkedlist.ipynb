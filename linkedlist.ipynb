{
  "nbformat": 4,
  "nbformat_minor": 0,
  "metadata": {
    "colab": {
      "provenance": [],
      "authorship_tag": "ABX9TyNplk1JJddW2ssayROnEPXL",
      "include_colab_link": true
    },
    "kernelspec": {
      "name": "python3",
      "display_name": "Python 3"
    },
    "language_info": {
      "name": "python"
    }
  },
  "cells": [
    {
      "cell_type": "markdown",
      "metadata": {
        "id": "view-in-github",
        "colab_type": "text"
      },
      "source": [
        "<a href=\"https://colab.research.google.com/github/joydebmahata/COLLAGE_ASGN/blob/main/linkedlist.ipynb\" target=\"_parent\"><img src=\"https://colab.research.google.com/assets/colab-badge.svg\" alt=\"Open In Colab\"/></a>"
      ]
    },
    {
      "cell_type": "markdown",
      "source": [
        "**NAME : JOYDEB MAHATA**\n",
        "\n",
        "**ROLL NO. 22BT8048**\n",
        "\n"
      ],
      "metadata": {
        "id": "Y3VXNZ1sSZJ3"
      }
    },
    {
      "cell_type": "code",
      "source": [
        "class node:\n",
        "  def __init__(self,data):\n",
        "    self.data=data\n",
        "    self.next=None\n",
        "\n",
        "class create :\n",
        "  def __init__(self):\n",
        "    self.head=None\n",
        "\n",
        "  def print_data(self):\n",
        "    n=self.head\n",
        "    if(n==None):\n",
        "      Print(\"linklist not creat or empty\")\n",
        "    while(n!=None):\n",
        "       print(n.data)\n",
        "       n=n.next\n",
        "  def add_beg(self,data):\n",
        "    temp=node(data)\n",
        "\n",
        "    tem=self.head\n",
        "    self.head=temp\n",
        "    temp.next=tem\n",
        "\n",
        "  def add_end(self,data):\n",
        "    tem = node(data)\n",
        "    if(self.head == None):\n",
        "      self.head=tem\n",
        "    else:\n",
        "      n=self.head\n",
        "      while(n.next!=None):\n",
        "        n=n.next\n",
        "      n.next=tem\n",
        "\n",
        "l = create ()\n",
        "l.add_end(23)\n",
        "l.add_beg(85)\n",
        "l.add_end(100)\n",
        "l.add_beg(5)\n",
        "l.add_beg(6)\n",
        "l.add_end(11)\n",
        "l.add_beg(99)\n",
        "l.add_end(5)\n",
        "print(\"final result is ... \")\n",
        "l.print_data()\n",
        "\n"
      ],
      "metadata": {
        "colab": {
          "base_uri": "https://localhost:8080/"
        },
        "id": "9a4Ca9o3Sw_3",
        "outputId": "146be459-0930-4f6a-891c-85e352f5a3b8"
      },
      "execution_count": null,
      "outputs": [
        {
          "output_type": "stream",
          "name": "stdout",
          "text": [
            "final result is ... \n",
            "99\n",
            "6\n",
            "5\n",
            "85\n",
            "23\n",
            "100\n",
            "11\n",
            "5\n"
          ]
        }
      ]
    },
    {
      "cell_type": "code",
      "execution_count": null,
      "metadata": {
        "id": "Mrs1cveqSTAj"
      },
      "outputs": [],
      "source": []
    }
  ]
}