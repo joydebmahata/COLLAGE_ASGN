{
  "nbformat": 4,
  "nbformat_minor": 0,
  "metadata": {
    "colab": {
      "provenance": [],
      "authorship_tag": "ABX9TyP8k5VL7EdXPAbW2mM+fHVy",
      "include_colab_link": true
    },
    "kernelspec": {
      "name": "python3",
      "display_name": "Python 3"
    },
    "language_info": {
      "name": "python"
    }
  },
  "cells": [
    {
      "cell_type": "markdown",
      "metadata": {
        "id": "view-in-github",
        "colab_type": "text"
      },
      "source": [
        "<a href=\"https://colab.research.google.com/github/joydebmahata/COLLAGE_ASGN/blob/main/practic.ipynb\" target=\"_parent\"><img src=\"https://colab.research.google.com/assets/colab-badge.svg\" alt=\"Open In Colab\"/></a>"
      ]
    },
    {
      "cell_type": "code",
      "source": [],
      "metadata": {
        "id": "EI9tGEn8_1tW"
      },
      "execution_count": null,
      "outputs": []
    },
    {
      "cell_type": "code",
      "execution_count": null,
      "metadata": {
        "id": "gjWSXV42C18j"
      },
      "outputs": [],
      "source": [
        "import keyword\n",
        "keyword.kwlist"
      ]
    },
    {
      "cell_type": "code",
      "source": [
        "a=45\n",
        "c=b=bool(a>55)\n",
        "i=n=not(c)\n",
        "print(i,c)\n",
        "print(c-i)\n",
        "print(b,c,i)\n",
        "if b==True:\n",
        "   print(f'{ a } is grater then 55')\n",
        "   print('your condition satisfied')\n",
        "else:\n",
        "   print(f'{a}a is less then 1')\n",
        "   print('your not condition satisfied')\n",
        "\n",
        "print('your program is over')"
      ],
      "metadata": {
        "id": "wJ2IBwBhs8TI",
        "colab": {
          "base_uri": "https://localhost:8080/"
        },
        "outputId": "d178c7e6-5311-4d89-c213-53333a4999aa"
      },
      "execution_count": null,
      "outputs": [
        {
          "output_type": "stream",
          "name": "stdout",
          "text": [
            "True False\n",
            "-1\n",
            "False False True\n",
            "45a is less then 1\n",
            "your not condition satisfied\n",
            "your program is over\n"
          ]
        }
      ]
    },
    {
      "cell_type": "markdown",
      "source": [
        "**RANDOM NUMBER IMPORT**"
      ],
      "metadata": {
        "id": "CeBPlC50cD8H"
      }
    },
    {
      "cell_type": "code",
      "source": [
        "import random as ra\n",
        "b= input('how many number u want to take  =')\n",
        "c=int(b)\n",
        "m=0\n",
        "while(m<=c):\n",
        "    c=ra.randrange(2,58)\n",
        "    #d=float(c)\n",
        "    m=m+1\n",
        "    print(c)"
      ],
      "metadata": {
        "id": "IStL6r2QwQpa",
        "colab": {
          "base_uri": "https://localhost:8080/"
        },
        "outputId": "94c65665-4580-468b-c0d6-d147bf4cf0bd"
      },
      "execution_count": null,
      "outputs": [
        {
          "output_type": "stream",
          "name": "stdout",
          "text": [
            "how many number u want to take  =9\n",
            "8\n",
            "35\n",
            "7\n",
            "8\n",
            "53\n",
            "48\n",
            "55\n",
            "30\n",
            "4\n"
          ]
        }
      ]
    },
    {
      "cell_type": "markdown",
      "source": [
        "**FOR LOOP...**"
      ],
      "metadata": {
        "id": "XTHDh4wubyTR"
      }
    },
    {
      "cell_type": "code",
      "source": [
        "import numpy as np\n",
        "import pandas as pd\n",
        "import  random\n",
        "a=input('enter friend number ')\n",
        "b = int(a)\n",
        "c=0\n",
        "m=[]\n",
        "for x in range(b):\n",
        "    #m[c]=(input(f\"ente your {c+1}st friend name \"))\n",
        "    m.append(input(f\"ente your {c+1}st friend name \"))\n",
        "    c=c+1\n",
        "print(m)"
      ],
      "metadata": {
        "colab": {
          "base_uri": "https://localhost:8080/"
        },
        "id": "n-Dwcw4Dwq0k",
        "outputId": "582f5a82-2b39-423c-803a-059b14779802"
      },
      "execution_count": null,
      "outputs": [
        {
          "output_type": "stream",
          "name": "stdout",
          "text": [
            "enter friend number 5\n",
            "ente your 1st friend name BCGFTH\n",
            "ente your 2st friend name CCGV\n",
            "ente your 3st friend name C CGH\n",
            "ente your 4st friend name GJJ\n",
            "ente your 5st friend name HCGCG\n",
            "['BCGFTH', 'CCGV', 'C CGH', 'GJJ', 'HCGCG']\n"
          ]
        }
      ]
    },
    {
      "cell_type": "markdown",
      "source": [
        "**while loop ...**"
      ],
      "metadata": {
        "id": "CBExLKrtcPVw"
      }
    },
    {
      "cell_type": "code",
      "source": [
        "a=input('enter friend number ')\n",
        "b = int(a)\n",
        "c=0\n",
        "m=[]\n",
        "while(c<b):\n",
        "    #m[c]=(input(f\"ente your {c+1}st friend name \"))\n",
        "    m.append(input(f\"ente your {c+1}st friend name \"))\n",
        "    c=c+1\n",
        "print(m)"
      ],
      "metadata": {
        "id": "SLYQUzFvZUu3"
      },
      "execution_count": null,
      "outputs": []
    },
    {
      "cell_type": "markdown",
      "source": [
        "**PATTERN**"
      ],
      "metadata": {
        "id": "l2bh9B1LjYCD"
      }
    },
    {
      "cell_type": "code",
      "source": [],
      "metadata": {
        "id": "WNDZe47abumq"
      },
      "execution_count": null,
      "outputs": []
    },
    {
      "cell_type": "code",
      "source": [
        "import keyword as key\n",
        "import pandas as pd\n",
        "import numpy as np\n",
        "\n",
        "i=0\n",
        "b=int(input(\"enter how many students data want to input :  \"))\n",
        "a=[]\n",
        "while i<b:\n",
        "    ba=[]\n",
        "    ba.append(str(input(f\"enter {i} th student 1st name : \")))\n",
        "    ba.append(str(input(f\"enter {i}th student last name : \")))\n",
        "    ba.append(str(input(f\"enter {i} th student roll no.  : \")))\n",
        "    ba.append(str(input(f\"enter {i} th student cgpa : \")))\n",
        "    ba.append(str(input(f\"enter {i} th student adderess : \")))\n",
        "    ba.append(str(input(f\"enter {i} th student contect no. : \")))\n",
        "    a.append(ba)\n",
        "    i+=1\n",
        "\n",
        "for j in range(b-1):\n",
        "  for x in range(b-1):\n",
        "    if a[x][2]>a[x+1][2] :\n",
        "        a[x],a[x+1]=a[x+1],a[x]\n",
        "for y in range(b):\n",
        "    print(\"name : \",a[y][0],a[y][1],\"roll no : \",a[y][2],\"cgpa : \",a[y][3],\"adderess : \",a[y][4],\"contect no. : \",a[y][5])\n",
        "\n"
      ],
      "metadata": {
        "id": "tWxrP-8V_4lZ"
      },
      "execution_count": null,
      "outputs": []
    },
    {
      "cell_type": "markdown",
      "source": [
        "**PRACTCE QUASTION**"
      ],
      "metadata": {
        "id": "Wd_j9Rhk7kpF"
      }
    },
    {
      "cell_type": "code",
      "source": [
        "# a=int(input(\"enter how many match win : \"))\n",
        "# b=int(input(\"enter how many match loss : \"))\n",
        "# c=int(input(\"enter how many match drow : \"))\n",
        "# n=a*4+b*0+c*2\n",
        "# print(n)\n",
        "\n",
        "x=int(input(\"how many hatch alrady done : \"))\n",
        "i=1\n",
        "sum = 0\n",
        "print(\"if match win then enter 'W',loss : 'L',drow : 'D' ...\")\n",
        "while (i<=x):\n",
        "  y=str(input(f\"{i} th match situation : \"))\n",
        " # char(y)\n",
        "  if y=='WW' :\n",
        "    sum = sum + 4\n",
        "  else :\n",
        "    if y=='D' :\n",
        "      sum=sum + 2\n",
        "    else :\n",
        "      if y=='L' :\n",
        "        sum=sum + 0\n",
        "  print(sum)\n",
        "  i=i+1\n",
        "print(f\"now team point is {sum}\")\n"
      ],
      "metadata": {
        "id": "TvHhQA2F_45v"
      },
      "execution_count": null,
      "outputs": []
    },
    {
      "cell_type": "code",
      "source": [],
      "metadata": {
        "id": "8xEWsmocGGY2"
      },
      "execution_count": null,
      "outputs": []
    },
    {
      "cell_type": "code",
      "source": [],
      "metadata": {
        "id": "EH02BwHcGMQM"
      },
      "execution_count": null,
      "outputs": []
    },
    {
      "cell_type": "code",
      "source": [
        "# Library Import(numpy and matplotlib)\n",
        "import numpy as np\n",
        "import matplotlib.pyplot as plot\n",
        "\n",
        "# Make a data definition\n",
        "a1 = [2.2, 2.7, 3.2, 3.7, 4.2, 4.7]\n",
        "b1 = [2, 5, 8, 11, 14, 17]\n",
        "\n",
        "a2 = [4, 10, 14, 20, 24, 32]\n",
        "b2 = [2.3, 5.5, 11, 18, 8.9, 10.2]\n",
        "\n",
        "r1 = np.arange(6)\n",
        "width1 = 0.5\n",
        "\n",
        "# Create the first subplot\n",
        "plot.subplot(1, 2, 2)\n",
        "plot.bar(r1, a1, width=width1)\n",
        "plot.bar(r1 + width1, b1, width=width1)\n",
        "\n",
        "# Create the second subplot\n",
        "plot.subplot(1, 2, 1)\n",
        "plot.bar(r1, a2, width=width1)\n",
        "plot.bar(r1 + width1, b2, width=width1)\n",
        "\n",
        "# Display the plot\n",
        "plot.show()\n"
      ],
      "metadata": {
        "id": "tskBE8WoGNLL"
      },
      "execution_count": null,
      "outputs": []
    },
    {
      "cell_type": "code",
      "source": [],
      "metadata": {
        "id": "96lrcRGYGOBB"
      },
      "execution_count": null,
      "outputs": []
    },
    {
      "cell_type": "code",
      "source": [],
      "metadata": {
        "id": "qmVRLIDsGGEy"
      },
      "execution_count": null,
      "outputs": []
    }
  ]
}