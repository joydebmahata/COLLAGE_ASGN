{
  "nbformat": 4,
  "nbformat_minor": 0,
  "metadata": {
    "colab": {
      "provenance": [],
      "authorship_tag": "ABX9TyPUhfnOJQTyDK4g2muYzpSU",
      "include_colab_link": true
    },
    "kernelspec": {
      "name": "python3",
      "display_name": "Python 3"
    },
    "language_info": {
      "name": "python"
    }
  },
  "cells": [
    {
      "cell_type": "markdown",
      "metadata": {
        "id": "view-in-github",
        "colab_type": "text"
      },
      "source": [
        "<a href=\"https://colab.research.google.com/github/joydebmahata/COLLAGE_ASGN/blob/main/double_linkedlist.ipynb\" target=\"_parent\"><img src=\"https://colab.research.google.com/assets/colab-badge.svg\" alt=\"Open In Colab\"/></a>"
      ]
    },
    {
      "cell_type": "markdown",
      "source": [
        "\n",
        " 1. **NAME : JOYDEB MAHATA**\n",
        " 2. **ROLL NO. = 22BT8048**\n",
        "\n"
      ],
      "metadata": {
        "id": "e4FK7lWboBrK"
      }
    },
    {
      "cell_type": "code",
      "execution_count": null,
      "metadata": {
        "colab": {
          "base_uri": "https://localhost:8080/"
        },
        "id": "dP4Q-pN5cvLH",
        "outputId": "15dc200d-1a02-475b-cee3-6336683c469c"
      },
      "outputs": [
        {
          "output_type": "stream",
          "name": "stdout",
          "text": [
            "final result is ... \n",
            "99\n",
            "25\n",
            "6\n",
            "5\n",
            "85\n",
            "23\n",
            "100\n",
            "11\n",
            "5\n"
          ]
        }
      ],
      "source": [
        "class node:\n",
        "  def __init__(self,data):\n",
        "    self.data=data\n",
        "    self.next=None\n",
        "    self.prv=None\n",
        "\n",
        "class create :\n",
        "  def __init__(self):\n",
        "    self.head=None\n",
        "\n",
        "  def print_data(self):\n",
        "    n=self.head\n",
        "    if(n==None):\n",
        "      print (\"linklist not creat or empty\")\n",
        "    while(n!=None):\n",
        "       print(n.data)\n",
        "       n=n.next\n",
        "  def add_beg(self,data):\n",
        "    temp=node(data)\n",
        "    tem=self.head\n",
        "    self.head=temp\n",
        "    temp.next=tem\n",
        "    tem.prv=temp\n",
        "\n",
        "  def add_end(self,data):\n",
        "    tem = node(data)\n",
        "    if(self.head == None):\n",
        "      self.head=tem\n",
        "    else:\n",
        "      n=self.head\n",
        "      while(n.next!=None):\n",
        "        prev=n\n",
        "        n=n.next\n",
        "      n.next=tem\n",
        "      n.prv=prev\n",
        "  def after_pos(self,data2,data1):\n",
        "    temp=node(data1)\n",
        "    n=self.head\n",
        "    count=0\n",
        "    while(n!=None):\n",
        "      if (n.data==data2):\n",
        "        tak=n.next\n",
        "        pr=n\n",
        "        n.next=temp\n",
        "        temp.prv=pr\n",
        "        temp.next=tak\n",
        "        count=1\n",
        "        break\n",
        "\n",
        "      else :\n",
        "        k=n\n",
        "        n=n.next\n",
        "        n.prv=k\n",
        "\n",
        "    if(count==0) :\n",
        "      print(\"no node\")\n",
        "\n",
        "\n",
        "l = create ()\n",
        "l.add_end(23)\n",
        "l.add_beg(85)\n",
        "l.add_end(100)\n",
        "l.add_beg(5)\n",
        "l.add_beg(6)\n",
        "l.add_end(11)\n",
        "l.add_beg(99)\n",
        "l.add_end(5)\n",
        "l.after_pos(99,25)\n",
        "print(\"final result is ... \")\n",
        "l.print_data()\n"
      ]
    }
  ]
}