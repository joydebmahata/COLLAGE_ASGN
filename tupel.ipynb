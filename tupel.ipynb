{
  "nbformat": 4,
  "nbformat_minor": 0,
  "metadata": {
    "colab": {
      "provenance": [],
      "authorship_tag": "ABX9TyNx5M3PIU1gZtSX9N0+y+gK",
      "include_colab_link": true
    },
    "kernelspec": {
      "name": "python3",
      "display_name": "Python 3"
    },
    "language_info": {
      "name": "python"
    }
  },
  "cells": [
    {
      "cell_type": "markdown",
      "metadata": {
        "id": "view-in-github",
        "colab_type": "text"
      },
      "source": [
        "<a href=\"https://colab.research.google.com/github/joydebmahata/COLLAGE_ASGN/blob/main/tupel.ipynb\" target=\"_parent\"><img src=\"https://colab.research.google.com/assets/colab-badge.svg\" alt=\"Open In Colab\"/></a>"
      ]
    },
    {
      "cell_type": "code",
      "execution_count": null,
      "metadata": {
        "colab": {
          "base_uri": "https://localhost:8080/"
        },
        "id": "T6gIxYuVdZiJ",
        "outputId": "32375ca4-0ff1-4c26-d6dc-3b01a63fbb5b"
      },
      "outputs": [
        {
          "output_type": "stream",
          "name": "stdout",
          "text": [
            "<class 'tuple'>\n",
            "1\n",
            "67\n"
          ]
        }
      ],
      "source": [
        "newlist = (2,5,'joydeb',5.54,5,67,'kal')\n",
        "print(type(newlist))\n",
        "mylist = newlist\n",
        "print(newlist.count('joydeb'))\n",
        "print(mylist[5])\n",
        "#tem = mylist.append(4,86,'d')\n",
        "#print(tem)"
      ]
    },
    {
      "cell_type": "code",
      "source": [
        "new =['A','B','C','D','a','b','c','d',65,66]\n",
        "type(new)\n",
        "len(new)\n",
        "#print(sort(new1))\n",
        "b=set()\n",
        "# c=dict[10]\n",
        "# c=new\n",
        "b=new\n",
        "print(new[2:5]*4)\n",
        "print(b )\n",
        "# print(dict[1:6])"
      ],
      "metadata": {
        "colab": {
          "base_uri": "https://localhost:8080/"
        },
        "id": "6le1IFVjLKtF",
        "outputId": "abc06c4d-fd42-4460-a3d7-4f94f992b163"
      },
      "execution_count": null,
      "outputs": [
        {
          "output_type": "stream",
          "name": "stdout",
          "text": [
            "['C', 'D', 'a', 'C', 'D', 'a', 'C', 'D', 'a', 'C', 'D', 'a']\n",
            "['A', 'B', 'C', 'D', 'a', 'b', 'c', 'd', 65, 66]\n",
            "dict[slice(1, 6, None)]\n"
          ]
        }
      ]
    },
    {
      "cell_type": "code",
      "source": [
        "\n",
        "mylist1 = (5,1,9,2,8,6,1,1,5,2)\n",
        "print(type(mylist1))\n",
        "mylist = set(mylist1)\n",
        "print(type(mylist))\n",
        "print(mylist)\n",
        "mylist.add('a')\n",
        "print(mylist)\n",
        "mylist.update('A')\n",
        "print(mylist)\n",
        "mylist.update(['c','C','E','e'])\n",
        "print(mylist)\n"
      ],
      "metadata": {
        "colab": {
          "base_uri": "https://localhost:8080/"
        },
        "id": "24LAGPArNAtO",
        "outputId": "a939773d-1274-4e90-a95f-ab4a3576d359"
      },
      "execution_count": null,
      "outputs": [
        {
          "output_type": "stream",
          "name": "stdout",
          "text": [
            "<class 'tuple'>\n",
            "<class 'set'>\n",
            "{1, 2, 5, 6, 8, 9}\n",
            "{1, 2, 5, 6, 8, 9, 'a'}\n",
            "{1, 2, 5, 6, 8, 9, 'a', 'A'}\n",
            "{1, 2, 5, 6, 8, 9, 'C', 'a', 'A', 'E', 'c', 'e'}\n"
          ]
        }
      ]
    },
    {
      "cell_type": "code",
      "source": [
        "print(mylist)\n",
        "mylist.remove('A')\n",
        "print(mylist)\n"
      ],
      "metadata": {
        "colab": {
          "base_uri": "https://localhost:8080/"
        },
        "id": "k2dEnOUCNAwx",
        "outputId": "df9c2b60-3dec-4b84-8361-6627a7365508"
      },
      "execution_count": null,
      "outputs": [
        {
          "output_type": "stream",
          "name": "stdout",
          "text": [
            "{1, 2, 5, 6, 8, 9, 'C', 'a', 'A', 'E', 'c', 'e'}\n",
            "{1, 2, 5, 6, 8, 9, 'C', 'a', 'E', 'c', 'e'}\n"
          ]
        }
      ]
    },
    {
      "cell_type": "code",
      "source": [],
      "metadata": {
        "id": "Wa4rnB5CNBYE"
      },
      "execution_count": null,
      "outputs": []
    }
  ]
}