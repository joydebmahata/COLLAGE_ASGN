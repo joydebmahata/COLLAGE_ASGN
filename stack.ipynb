{
  "nbformat": 4,
  "nbformat_minor": 0,
  "metadata": {
    "colab": {
      "provenance": [],
      "authorship_tag": "ABX9TyPtuuDWt+qku/mAdwz3UuHP",
      "include_colab_link": true
    },
    "kernelspec": {
      "name": "python3",
      "display_name": "Python 3"
    },
    "language_info": {
      "name": "python"
    }
  },
  "cells": [
    {
      "cell_type": "markdown",
      "metadata": {
        "id": "view-in-github",
        "colab_type": "text"
      },
      "source": [
        "<a href=\"https://colab.research.google.com/github/joydebmahata/COLLAGE_ASGN/blob/main/stack.ipynb\" target=\"_parent\"><img src=\"https://colab.research.google.com/assets/colab-badge.svg\" alt=\"Open In Colab\"/></a>"
      ]
    },
    {
      "cell_type": "code",
      "execution_count": null,
      "metadata": {
        "id": "_DY07f0C0HQH"
      },
      "outputs": [],
      "source": [
        "class node:\n",
        "  def __init__(self,data):\n",
        "    self.data=data\n",
        "    self.next=None\n",
        "\n",
        "class create :\n",
        "  def __init__(self):\n",
        "    self.head=None\n",
        "\n",
        "  def print_data(self):\n",
        "    ne=self.head\n",
        "    n=ne.next\n",
        "    if(n==None):\n",
        "      Print(\"linklist not creat or empty\")\n",
        "    while(n!=None):\n",
        "       print(n.data)\n",
        "       n=n.next\n",
        "  def del_end(self,data):\n",
        "\n",
        "\n",
        "  def add_end(self,data):\n",
        "    tem = node(data)\n",
        "    if(self.head == None):\n",
        "      self.head=tem\n",
        "    else:\n",
        "      n=self.head\n",
        "      while(n.next!=None):\n",
        "        n=n.next\n",
        "      n.next=tem\n",
        "\n"
      ]
    }
  ]
}