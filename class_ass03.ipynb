{
  "nbformat": 4,
  "nbformat_minor": 0,
  "metadata": {
    "colab": {
      "provenance": [],
      "authorship_tag": "ABX9TyMthHjLnkbgbuGAhXC3+Rv+",
      "include_colab_link": true
    },
    "kernelspec": {
      "name": "python3",
      "display_name": "Python 3"
    },
    "language_info": {
      "name": "python"
    }
  },
  "cells": [
    {
      "cell_type": "markdown",
      "metadata": {
        "id": "view-in-github",
        "colab_type": "text"
      },
      "source": [
        "<a href=\"https://colab.research.google.com/github/joydebmahata/COLLAGE_ASGN/blob/main/class_ass03.ipynb\" target=\"_parent\"><img src=\"https://colab.research.google.com/assets/colab-badge.svg\" alt=\"Open In Colab\"/></a>"
      ]
    },
    {
      "cell_type": "markdown",
      "source": [
        "\n",
        "\n",
        "\n",
        "**NAME:JOYDEB MAHATA**\n",
        "\n",
        "**ROLL NO. 22BT8048**\n",
        "\n",
        "\n",
        "\n",
        "\n"
      ],
      "metadata": {
        "id": "e_aOSEQwZ6Wb"
      }
    },
    {
      "cell_type": "markdown",
      "source": [
        "Q **01.\n",
        "Write down a Python program with a class to calculate the area of a\n",
        "circle.**"
      ],
      "metadata": {
        "id": "rWNK97T3Wi6y"
      }
    },
    {
      "cell_type": "code",
      "execution_count": null,
      "metadata": {
        "colab": {
          "base_uri": "https://localhost:8080/"
        },
        "id": "rejV70LFWRA4",
        "outputId": "a25f3e3a-9f52-4052-bacb-03d9904762f6"
      },
      "outputs": [
        {
          "output_type": "stream",
          "name": "stdout",
          "text": [
            "78.5\n"
          ]
        }
      ],
      "source": [
        "class nec():\n",
        "    def __init__(self,r):\n",
        "        self.r=r\n",
        "    def detail(self):\n",
        "        return 3.14*(self.r)**2\n",
        "\n",
        "a=nec(5)\n",
        "print(a.detail())"
      ]
    },
    {
      "cell_type": "markdown",
      "source": [
        "Q **02.Write down a Python program with a class that takes a list of\n",
        "numbers, calculates the average, and assigns a grade based on the\n",
        "average.**"
      ],
      "metadata": {
        "id": "lAc64E42W1tI"
      }
    },
    {
      "cell_type": "code",
      "source": [
        "class lis():\n",
        "    def __init__ (self,a):\n",
        "        self.a=a\n",
        "    def le(self):\n",
        "        return len(self.a)\n",
        "    def sm(self):\n",
        "        return sum(self.a)\n",
        "\n",
        "    def avg(self):\n",
        "        self.m = self.sm()/self.le()\n",
        "        return self.m\n",
        "    def gra(self):\n",
        "        if (self.m>80):\n",
        "            return \"A \"\n",
        "        elif(self.m>70):\n",
        "            return \"B\"\n",
        "        elif(self.m>60):\n",
        "            return \"C\"\n",
        "        elif(self.m>50):\n",
        "            return \"D\"\n",
        "        else :\n",
        "            return \"FALL\"\n",
        "\n",
        "\n",
        "b=[98,89,0,78,72]\n",
        "m=lis(b)\n",
        "print(\"sum of all num is\",m.sm())\n",
        "print(\"avg of mark is\",m.avg())\n",
        "print(\"your grade is\",m.gra())"
      ],
      "metadata": {
        "colab": {
          "base_uri": "https://localhost:8080/"
        },
        "id": "Jecc3gMOWRjO",
        "outputId": "d872b7ef-ca5b-4566-d09d-fe3f60eee7d3"
      },
      "execution_count": null,
      "outputs": [
        {
          "output_type": "stream",
          "name": "stdout",
          "text": [
            "sum of all num is 267\n",
            "avg of mark is 53.4\n",
            "your grade is D\n"
          ]
        }
      ]
    },
    {
      "cell_type": "markdown",
      "source": [
        "Q **03**. **Write down a Python program with a class for a basic calculator**."
      ],
      "metadata": {
        "id": "cHMkqJpHW-fX"
      }
    },
    {
      "cell_type": "code",
      "source": [
        "class name():\n",
        "    def __init__(self,a,b):\n",
        "        self.a=a\n",
        "        self.b=b\n",
        "    def add(self):\n",
        "        return self.a+self.b\n",
        "    def sub(self):\n",
        "        return self.a-self.b\n",
        "    def mul(self):\n",
        "        return self.a*self.b\n",
        "    def div(self):\n",
        "        return self.a/self.b\n",
        "\n",
        "\n",
        "k=name(5,3)\n",
        "print(k.add())\n",
        "print(k.sub())\n",
        "print(k.mul())\n",
        "print(k.div())"
      ],
      "metadata": {
        "colab": {
          "base_uri": "https://localhost:8080/"
        },
        "id": "T9Cuq1sTWRkz",
        "outputId": "415bc36a-ac11-4ee8-e36b-2261adc6a587"
      },
      "execution_count": null,
      "outputs": [
        {
          "output_type": "stream",
          "name": "stdout",
          "text": [
            "8\n",
            "2\n",
            "15\n",
            "1.6666666666666667\n"
          ]
        }
      ]
    },
    {
      "cell_type": "markdown",
      "source": [
        "Q **04.Write down a Python program with a class that takes a list of\n",
        "numbers, sorts them and provides the sorted result. (without using the\n",
        "sorted() function)**"
      ],
      "metadata": {
        "id": "9bg0NgEPXtJh"
      }
    },
    {
      "cell_type": "code",
      "source": [
        "class sor():\n",
        "    def __init__(self,x):\n",
        "        self.x=x\n",
        "    def sh(self):\n",
        "        n=len(self.x)\n",
        "        i=0\n",
        "        for m in range(n):\n",
        "            while(i<n):\n",
        "                if self.x[m]>self.x[i]:\n",
        "                    self.x[m],self.x[i]=self.x[i],self.x[m]\n",
        "                i+=1\n",
        "            i=m+1\n",
        "        return self.x\n",
        "\n",
        "b=[8,5,6,2,4,7,3]\n",
        "c=sor(b)\n",
        "print(\"sorted of list is\",c.sh())"
      ],
      "metadata": {
        "colab": {
          "base_uri": "https://localhost:8080/"
        },
        "id": "TVxMvj5eWRmT",
        "outputId": "4ffb36e2-53e1-4c71-d713-6cf93edff9b9"
      },
      "execution_count": null,
      "outputs": [
        {
          "output_type": "stream",
          "name": "stdout",
          "text": [
            "sorted of list is [2, 3, 4, 5, 6, 7, 8]\n"
          ]
        }
      ]
    },
    {
      "cell_type": "markdown",
      "source": [
        "Q **5. Write down a Python program with a class that swaps two numbers\n",
        "without using a third variable. (by using arithmetic operations)t**"
      ],
      "metadata": {
        "id": "AZJoY20xX8FV"
      }
    },
    {
      "cell_type": "code",
      "source": [
        "class aw():\n",
        "    def __init__(self,a,b):\n",
        "        self.a=a\n",
        "        self.b=b\n",
        "    def aws(self) :\n",
        "        self.a,self.b=self.b,self.a\n",
        "        return (self.a,self.b)\n",
        "\n",
        "\n",
        "z=aw(5,8)\n",
        "print(z.aws())"
      ],
      "metadata": {
        "colab": {
          "base_uri": "https://localhost:8080/"
        },
        "id": "Ulg2uktIWRoa",
        "outputId": "2526aad9-5d0d-4c86-a884-9ab276b9d6bc"
      },
      "execution_count": null,
      "outputs": [
        {
          "output_type": "stream",
          "name": "stdout",
          "text": [
            "(8, 5)\n"
          ]
        }
      ]
    },
    {
      "cell_type": "code",
      "source": [],
      "metadata": {
        "id": "gIl4BaLSWRr1"
      },
      "execution_count": null,
      "outputs": []
    }
  ]
}