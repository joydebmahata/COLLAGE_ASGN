{
  "cells": [
    {
      "cell_type": "markdown",
      "metadata": {
        "id": "view-in-github",
        "colab_type": "text"
      },
      "source": [
        "<a href=\"https://colab.research.google.com/github/joydebmahata/COLLAGE_ASGN/blob/main/class_ass01.ipynb\" target=\"_parent\"><img src=\"https://colab.research.google.com/assets/colab-badge.svg\" alt=\"Open In Colab\"/></a>"
      ]
    },
    {
      "cell_type": "code",
      "execution_count": null,
      "metadata": {
        "id": "-Zom4yU2pR2D"
      },
      "outputs": [],
      "source": [
        "# NAME: JOYDEB MAHATA\n",
        "#  ROLL NO. :22BT8048"
      ]
    },
    {
      "cell_type": "code",
      "execution_count": null,
      "metadata": {
        "id": "a4KgIjPkvU3M"
      },
      "outputs": [],
      "source": []
    },
    {
      "cell_type": "code",
      "execution_count": null,
      "metadata": {
        "colab": {
          "base_uri": "https://localhost:8080/"
        },
        "id": "x9Y2LF94m_wx",
        "outputId": "5efb0c9e-a582-4a3d-c7a7-362796c97791"
      },
      "outputs": [
        {
          "output_type": "stream",
          "name": "stdout",
          "text": [
            "enter how many students data want to input :  4\n",
            "enter 1 th student 1st name : JOYDEB\n",
            "enter 1 th student last name : MAHATA\n",
            "enter 1 th student roll no.  : 22BT8048\n",
            "enter 1 th student cgpa : 7.59\n",
            "enter 1 th student adderess : UHVUHUAH\n",
            "enter 1 th student contect no. : 25484887\n",
            "enter 2 th student 1st name : HVUH\n",
            "enter 2 th student last name : UKRHUH\n",
            "enter 2 th student roll no.  : 22ME8145\n",
            "enter 2 th student cgpa : 8.25\n",
            "enter 2 th student adderess : IEUWHUI\n",
            "enter 2 th student contect no. : 878525\n",
            "enter 3 th student 1st name : HEUHEFJ\n",
            "enter 3 th student last name : WEUH\n",
            "enter 3 th student roll no.  : 22CS8165\n",
            "enter 3 th student cgpa : 8.56\n",
            "enter 3 th student adderess : UHRFUIHUK\n",
            "enter 3 th student contect no. : 38788\n",
            "enter 4 th student 1st name : UHRFUH\n",
            "enter 4 th student last name : HRFJ\n",
            "enter 4 th student roll no.  : 22CH8046\n",
            "enter 4 th student cgpa : 7.98\n",
            "enter 4 th student adderess : EWUFHUH\n",
            "enter 4 th student contect no. : 5878748\n",
            "name =  JOYDEB MAHATA  ,roll no =  22BT8048  ,cgpa =  7.59  ,adderess =  UHVUHUAH  ,contect no. =  25484887\n",
            "name =  UHRFUH HRFJ  ,roll no =  22CH8046  ,cgpa =  7.98  ,adderess =  EWUFHUH  ,contect no. =  5878748\n",
            "name =  HEUHEFJ WEUH  ,roll no =  22CS8165  ,cgpa =  8.56  ,adderess =  UHRFUIHUK  ,contect no. =  38788\n",
            "name =  HVUH UKRHUH  ,roll no =  22ME8145  ,cgpa =  8.25  ,adderess =  IEUWHUI  ,contect no. =  878525\n",
            "None\n",
            "[8.56, 8.25, 7.98, 7.59]\n",
            "cgpa mean of all student is 8.095 and std deviation is 0.35654592972014154\n"
          ]
        }
      ],
      "source": [
        "i=0\n",
        "b=int(input(\"enter how many students data want to input :  \"))\n",
        "a=[]\n",
        "while i<b:\n",
        "    ba=[]\n",
        "    ba.append(str(input(f\"enter {1+i} th student 1st name : \")))\n",
        "    ba.append(str(input(f\"enter {1+i} th student last name : \")))\n",
        "    ba.append(str(input(f\"enter {i+1} th student roll no.  : \")))\n",
        "    ba.append(float(input(f\"enter {i+1} th student cgpa : \")))\n",
        "    ba.append(str(input(f\"enter {i+1} th student adderess : \")))\n",
        "    ba.append(int(input(f\"enter {i+1} th student contect no. : \")))\n",
        "    a.append(ba)\n",
        "    i+=1\n",
        "sm=0\n",
        "for k in range(b-1):\n",
        "  for x in range(b-1):\n",
        "    if a[x][2]>a[x+1][2] :\n",
        "      a[x],a[x+1]=a[x+1],a[x]\n",
        "for m in range(b) :\n",
        "  sm=sm+a[m][3]\n",
        "mean=sm/b\n",
        "std=0\n",
        "cgpa=[]\n",
        "for y in range(b):\n",
        "    print(\"name = \",a[y][0],a[y][1],\" ,roll no = \",a[y][2],\" ,cgpa = \",a[y][3],\" ,adderess = \",a[y][4],\" ,contect no. = \",a[y][5])\n",
        "    std=std+(a[y][3]-mean)**2\n",
        "    cgpa.append(a[y][3])\n",
        "std=(std/b)**0.5\n",
        "cgpa.sort()\n",
        "print(cgpa.reverse())\n",
        "print(cgpa)\n",
        "print(f\"cgpa mean of all student is {mean} and std deviation is {std}\")"
      ]
    },
    {
      "cell_type": "code",
      "execution_count": null,
      "metadata": {
        "id": "spYyWhT5vZdu",
        "colab": {
          "base_uri": "https://localhost:8080/"
        },
        "outputId": "b63e94ea-a1c5-40bd-f833-9e877796b246"
      },
      "outputs": [
        {
          "output_type": "stream",
          "name": "stdout",
          "text": [
            "enter name= 012459876\n",
            "9\n"
          ]
        }
      ],
      "source": [
        "name=input('enter name= ')\n",
        "print(name[5])"
      ]
    }
  ],
  "metadata": {
    "colab": {
      "provenance": [],
      "authorship_tag": "ABX9TyPcUWUtjzmhHTl09xhFiboh",
      "include_colab_link": true
    },
    "kernelspec": {
      "display_name": "Python 3",
      "name": "python3"
    },
    "language_info": {
      "name": "python"
    }
  },
  "nbformat": 4,
  "nbformat_minor": 0
}