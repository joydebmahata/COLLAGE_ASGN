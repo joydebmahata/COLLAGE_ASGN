{
  "nbformat": 4,
  "nbformat_minor": 0,
  "metadata": {
    "colab": {
      "provenance": [],
      "authorship_tag": "ABX9TyOhxEQfwMiKug+49/oQ1eM7",
      "include_colab_link": true
    },
    "kernelspec": {
      "name": "python3",
      "display_name": "Python 3"
    },
    "language_info": {
      "name": "python"
    }
  },
  "cells": [
    {
      "cell_type": "markdown",
      "metadata": {
        "id": "view-in-github",
        "colab_type": "text"
      },
      "source": [
        "<a href=\"https://colab.research.google.com/github/joydebmahata/COLLAGE_ASGN/blob/main/delete_linked_list.ipynb\" target=\"_parent\"><img src=\"https://colab.research.google.com/assets/colab-badge.svg\" alt=\"Open In Colab\"/></a>"
      ]
    },
    {
      "cell_type": "markdown",
      "source": [
        "\n",
        " **NAME : JOYDEB MAHATA**\n",
        "\n",
        "\n",
        "\n",
        "\n",
        "   **ROLL NO. : 22BT8048 **\n",
        "\n",
        "\n",
        "\n",
        "\n",
        "\n",
        "\n",
        "\n"
      ],
      "metadata": {
        "id": "R3tdiz65pbP2"
      }
    },
    {
      "cell_type": "code",
      "source": [],
      "metadata": {
        "id": "xTBgBf5bpanO"
      },
      "execution_count": null,
      "outputs": []
    },
    {
      "cell_type": "code",
      "execution_count": null,
      "metadata": {
        "colab": {
          "base_uri": "https://localhost:8080/"
        },
        "id": "cgEUgny4SIg6",
        "outputId": "3a0dd727-ea4f-4c66-b978-faf1229e627e"
      },
      "outputs": [
        {
          "output_type": "stream",
          "name": "stdout",
          "text": [
            "enter how many number want to insert 5\n",
            "enter your number 15\n",
            "enter your position 1\n",
            "enter your number 19\n",
            "enter your position 1\n",
            "enter your number 29\n",
            "enter your position 2\n",
            "enter your number 55\n",
            "enter your position 4\n",
            "enter your number 10\n",
            "enter your position 1\n",
            "enter your deleteing number 55\n",
            "your node is not there in linkedlist \n",
            "19\n",
            "29\n",
            "15\n"
          ]
        }
      ],
      "source": [
        "class node:\n",
        "   def __init__(self,data):\n",
        "    self.data=data\n",
        "    self.next=None\n",
        "class linkedlist :\n",
        "  def __init__(self):\n",
        "    self.head=None\n",
        "\n",
        "  def insert(self,data2,pos,total):\n",
        "    prv=self.head\n",
        "    top=self.head\n",
        "    temp1=node(data2)\n",
        "    if (pos==1):\n",
        "      top=self.head\n",
        "      self.head=temp1\n",
        "      temp1.next=top\n",
        "    else :\n",
        "      i=1\n",
        "      while(i<pos-1):\n",
        "        prv=prv.next\n",
        "        top = top.next\n",
        "        i=i+1\n",
        "      if ( pos > total):\n",
        "          print(\"your insert data is out of linkedlist range\")\n",
        "      else:\n",
        "         temp2=top.next\n",
        "         top.next=temp1\n",
        "         temp1.next=temp2\n",
        "\n",
        "  def del_beg(self):\n",
        "    beg_temp=self.head\n",
        "    self.head=beg_temp.next\n",
        "    beg_temp=None\n",
        "\n",
        "  def del_end(self):\n",
        "    prv=self.head\n",
        "    front=prv.next\n",
        "    while(front.next != None):\n",
        "      prv=prv.next\n",
        "      front=front.next\n",
        "    prv.next=None\n",
        "    front=None\n",
        "\n",
        "  def delete(self,data1):\n",
        "    count=0\n",
        "    temp=node(data1)\n",
        "    front=self.head\n",
        "    if (front==None):\n",
        "      print(\"linkedlist is not creat or empty\")\n",
        "    elif(self.head.data==data1):\n",
        "      self.head=self.head.next\n",
        "      return\n",
        "    else:\n",
        "      while (front.next != None):\n",
        "        if (front.next.data==data1):\n",
        "          count += 1\n",
        "          front.next=front.next.next\n",
        "          break\n",
        "        else :\n",
        "          prv=front\n",
        "          front = front.next\n",
        "    if (front.next==None and front.data==data1):\n",
        "      prv.next=None\n",
        "      count +=1\n",
        "    if (count == 0) :\n",
        "      print(\"your node is not there in linkedlist \")\n",
        "\n",
        "  def display (self):\n",
        "    n=self.head\n",
        "    while(n!=None):\n",
        "      print(n.data)\n",
        "      n=n.next\n",
        "\n",
        "lkl = linkedlist()\n",
        "z=int(input(\"enter how many number want to insert \"))\n",
        "for x in range(z):\n",
        "  num=int(input(\"enter your number \"))\n",
        "  pos=int(input(\"enter your position \"))\n",
        "  lkl.insert(num,pos,z)\n",
        "lkl.del_beg()\n",
        "lkl.del_end()\n",
        "lkl.display()"
      ]
    },
    {
      "cell_type": "code",
      "source": [
        "\n",
        "for x in range(z):\n",
        "  num=int(input(\"enter your number \"))\n",
        "  pos=int(input(\"enter your position \"))\n",
        "  lkl.insert(num,pos,z)\n",
        "data_num=int(input(\"enter your deleteing number \"))\n",
        "lkl.delete(data_num)\n",
        "lkl.display()"
      ],
      "metadata": {
        "id": "japJqHQySJDv",
        "colab": {
          "base_uri": "https://localhost:8080/"
        },
        "outputId": "334171a6-13ae-40b4-b7df-836eb6605ef6"
      },
      "execution_count": null,
      "outputs": [
        {
          "output_type": "stream",
          "name": "stdout",
          "text": [
            "enter your number 85\n",
            "enter your position 1\n",
            "enter your number 37\n",
            "enter your position 2\n",
            "enter your number 37\n",
            "enter your position 2\n",
            "enter your number 29\n",
            "enter your position 1\n",
            "enter your number 37\n",
            "enter your position 3\n",
            "enter your deleteing number 29\n",
            "85\n",
            "37\n",
            "37\n",
            "37\n",
            "34\n",
            "67\n",
            "57\n"
          ]
        }
      ]
    },
    {
      "cell_type": "code",
      "source": [],
      "metadata": {
        "id": "xz-30PFpSJG4"
      },
      "execution_count": null,
      "outputs": []
    },
    {
      "cell_type": "code",
      "source": [],
      "metadata": {
        "id": "os4Khr8USdDp"
      },
      "execution_count": null,
      "outputs": []
    }
  ]
}